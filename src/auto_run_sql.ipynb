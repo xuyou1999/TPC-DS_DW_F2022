{
 "cells": [
  {
   "cell_type": "markdown",
   "metadata": {},
   "source": [
    "# Load Credentials"
   ]
  },
  {
   "cell_type": "code",
   "execution_count": 70,
   "metadata": {},
   "outputs": [],
   "source": [
    "import pandas as pd\n",
    "from time import time\n",
    "import json\n",
    "f = open ('credential.json', \"r\")\n",
    "credential = json.loads(f.read())"
   ]
  },
  {
   "cell_type": "markdown",
   "metadata": {},
   "source": [
    "# Initialize pyodbc to connect the database"
   ]
  },
  {
   "cell_type": "code",
   "execution_count": 71,
   "metadata": {},
   "outputs": [],
   "source": [
    "import pyodbc as po\n",
    " \n",
    "# Connection variables\n",
    "server = credential['server']\n",
    "database = credential['database']\n",
    "username = credential['username']\n",
    "password = credential['password']\n",
    " \n",
    "# Connection string\n",
    "cnxn = po.connect('DRIVER={ODBC Driver 18 for SQL Server};SERVER=' +\n",
    "        server+';DATABASE='+database+';UID='+username+';PWD=' + password + ';TrustServerCertificate=yes')\n",
    "cursor = cnxn.cursor()"
   ]
  },
  {
   "cell_type": "markdown",
   "metadata": {},
   "source": [
    "# Create query list\n",
    "For queries with normal runtime (without No.14), run the following"
   ]
  },
  {
   "cell_type": "code",
   "execution_count": 1,
   "metadata": {},
   "outputs": [],
   "source": [
    "query_lst = [i for i in range(1, 100)]\n",
    "query_lst.remove(14)"
   ]
  },
  {
   "cell_type": "markdown",
   "metadata": {},
   "source": [
    "For optimized queries (No.14), run the following"
   ]
  },
  {
   "cell_type": "code",
   "execution_count": 72,
   "metadata": {},
   "outputs": [],
   "source": [
    "query_lst = [14]"
   ]
  },
  {
   "cell_type": "markdown",
   "metadata": {},
   "source": [
    "## Create a new dataframe to store the result"
   ]
  },
  {
   "cell_type": "code",
   "execution_count": 73,
   "metadata": {},
   "outputs": [
    {
     "data": {
      "text/html": [
       "<div>\n",
       "<style scoped>\n",
       "    .dataframe tbody tr th:only-of-type {\n",
       "        vertical-align: middle;\n",
       "    }\n",
       "\n",
       "    .dataframe tbody tr th {\n",
       "        vertical-align: top;\n",
       "    }\n",
       "\n",
       "    .dataframe thead th {\n",
       "        text-align: right;\n",
       "    }\n",
       "</style>\n",
       "<table border=\"1\" class=\"dataframe\">\n",
       "  <thead>\n",
       "    <tr style=\"text-align: right;\">\n",
       "      <th></th>\n",
       "      <th>query</th>\n",
       "      <th>time1</th>\n",
       "      <th>time2</th>\n",
       "      <th>time3</th>\n",
       "      <th>time4</th>\n",
       "      <th>time5</th>\n",
       "    </tr>\n",
       "  </thead>\n",
       "  <tbody>\n",
       "  </tbody>\n",
       "</table>\n",
       "</div>"
      ],
      "text/plain": [
       "Empty DataFrame\n",
       "Columns: [query, time1, time2, time3, time4, time5]\n",
       "Index: []"
      ]
     },
     "execution_count": 73,
     "metadata": {},
     "output_type": "execute_result"
    }
   ],
   "source": [
    "df = pd.DataFrame(columns=['query', 'time1', 'time2', 'time3', 'time4', 'time5'])\n",
    "df"
   ]
  },
  {
   "cell_type": "markdown",
   "metadata": {},
   "source": [
    "# Run queries"
   ]
  },
  {
   "cell_type": "code",
   "execution_count": null,
   "metadata": {},
   "outputs": [],
   "source": [
    "for query_num in query_lst:\n",
    "    tmp_lst = []\n",
    "    tmp_lst.append(query_num)\n",
    "    # replace the path with \"../query_sqlserver_optimized/query_{}.sql\" for query 14\n",
    "    f = open(\"../query_sqlserver_org_order/query_{}.sql\".format(query_num), 'r')\n",
    "    query = f.read()\n",
    "    for i in range(5):\n",
    "        tic = time()\n",
    "        cursor.execute(query)\n",
    "        toc = time()\n",
    "        t = toc - tic\n",
    "        tmp_lst.append(t)\n",
    "        print('time:', t)\n",
    "    new_df = pd.DataFrame([tmp_lst],columns=['query', 'time1', 'time2', 'time3', 'time4', 'time5'])\n",
    "    df = pd.concat([df, new_df],axis=0)\n",
    "    print(df,'\\n')\n",
    "# replace \"???\" with the actural data size or your own identifier\n",
    "df.to_csv('../result/result_???.csv', index=False)"
   ]
  },
  {
   "cell_type": "markdown",
   "metadata": {},
   "source": [
    "In the end, please manually merge results of the normal queries and query 14 into a single .csv file"
   ]
  },
  {
   "cell_type": "markdown",
   "metadata": {},
   "source": [
    "# Cursor examples\n",
    "This is a test to check if OBDC is running properly"
   ]
  },
  {
   "cell_type": "code",
   "execution_count": 6,
   "metadata": {},
   "outputs": [
    {
     "data": {
      "text/plain": [
       "<pyodbc.Cursor at 0x10919ebb0>"
      ]
     },
     "execution_count": 6,
     "metadata": {},
     "output_type": "execute_result"
    }
   ],
   "source": [
    "cursor.execute(\"SELECT TOP (10) * from call_center\")"
   ]
  },
  {
   "cell_type": "code",
   "execution_count": 7,
   "metadata": {},
   "outputs": [
    {
     "name": "stdout",
     "output_type": "stream",
     "text": [
      "1, AAAAAAAABAAAAAAA, 1998-01-01, \n",
      "2, AAAAAAAACAAAAAAA, 1998-01-01, 2000-12-31\n",
      "3, AAAAAAAACAAAAAAA, 2001-01-01, \n",
      "4, AAAAAAAAEAAAAAAA, 1998-01-01, 2000-01-01\n",
      "5, AAAAAAAAEAAAAAAA, 2000-01-02, 2001-12-31\n",
      "6, AAAAAAAAEAAAAAAA, 2002-01-01, \n"
     ]
    }
   ],
   "source": [
    "row = cursor.fetchone()\n",
    "while row:\n",
    "    print(str(row[0]) + \", \" + str(row[1] or '') + \", \" + str(row[2] or '') + \", \" + str(row[3] or ''))\n",
    "    row = cursor.fetchone()"
   ]
  }
 ],
 "metadata": {
  "kernelspec": {
   "display_name": "Python 3.9.13 ('base')",
   "language": "python",
   "name": "python3"
  },
  "language_info": {
   "codemirror_mode": {
    "name": "ipython",
    "version": 3
   },
   "file_extension": ".py",
   "mimetype": "text/x-python",
   "name": "python",
   "nbconvert_exporter": "python",
   "pygments_lexer": "ipython3",
   "version": "3.9.13"
  },
  "orig_nbformat": 4,
  "vscode": {
   "interpreter": {
    "hash": "d8cf549b0e672e8d5a0d0bf07c69eb35452dc99244258a03bd6dea3cf00f576e"
   }
  }
 },
 "nbformat": 4,
 "nbformat_minor": 2
}

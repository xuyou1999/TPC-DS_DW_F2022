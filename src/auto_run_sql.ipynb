{
 "cells": [
  {
   "cell_type": "code",
   "execution_count": 29,
   "metadata": {},
   "outputs": [],
   "source": [
    "import pandas as pd\n",
    "from time import time\n",
    "import json\n",
    "f = open ('credential.json', \"r\")\n",
    "credential = json.loads(f.read())"
   ]
  },
  {
   "cell_type": "code",
   "execution_count": 30,
   "metadata": {},
   "outputs": [],
   "source": [
    "import pyodbc as po\n",
    " \n",
    "# Connection variables\n",
    "server = credential['server']\n",
    "database = credential['database']\n",
    "username = credential['username']\n",
    "password = credential['password']\n",
    " \n",
    "# Connection string\n",
    "cnxn = po.connect('DRIVER={ODBC Driver 18 for SQL Server};SERVER=' +\n",
    "        server+';DATABASE='+database+';UID='+username+';PWD=' + password + ';TrustServerCertificate=yes')\n",
    "cursor = cnxn.cursor()"
   ]
  },
  {
   "cell_type": "code",
   "execution_count": 21,
   "metadata": {},
   "outputs": [
    {
     "name": "stdout",
     "output_type": "stream",
     "text": [
      "[1, 2, 3, 4, 5, 6, 7, 8, 9, 11, 12, 13, 15, 16, 17, 18, 19, 20, 21, 22, 24, 25, 26, 27, 28, 29, 30, 31, 32, 33, 34, 36, 37, 38, 39, 40, 41, 42, 43, 44, 45, 46, 47, 48, 50, 51, 52, 53, 54, 55, 56, 57, 58, 59, 60, 61, 62, 63, 64, 65, 66, 67, 68, 69, 70, 71, 72, 73, 74, 75, 76, 77, 78, 79, 80, 81, 82, 83, 84, 85, 86, 87, 88, 89, 90, 91, 92, 93, 94, 95, 96, 97, 98, 99]\n"
     ]
    }
   ],
   "source": [
    "query_lst_not_ordered = [49]\n",
    "query_lst_too_long = [10, 14, 23, 35]\n",
    "query_lst = [i for i in range(1, 100)]\n",
    "query_lst.remove(10)\n",
    "query_lst.remove(14)\n",
    "query_lst.remove(23)\n",
    "query_lst.remove(35)\n",
    "query_lst.remove(49)\n",
    "print(query_lst)"
   ]
  },
  {
   "cell_type": "code",
   "execution_count": 31,
   "metadata": {},
   "outputs": [],
   "source": [
    "query_lst = [49]"
   ]
  },
  {
   "cell_type": "code",
   "execution_count": 32,
   "metadata": {},
   "outputs": [
    {
     "data": {
      "text/html": [
       "<div>\n",
       "<style scoped>\n",
       "    .dataframe tbody tr th:only-of-type {\n",
       "        vertical-align: middle;\n",
       "    }\n",
       "\n",
       "    .dataframe tbody tr th {\n",
       "        vertical-align: top;\n",
       "    }\n",
       "\n",
       "    .dataframe thead th {\n",
       "        text-align: right;\n",
       "    }\n",
       "</style>\n",
       "<table border=\"1\" class=\"dataframe\">\n",
       "  <thead>\n",
       "    <tr style=\"text-align: right;\">\n",
       "      <th></th>\n",
       "      <th>query</th>\n",
       "      <th>time1</th>\n",
       "      <th>time2</th>\n",
       "      <th>time3</th>\n",
       "      <th>time4</th>\n",
       "      <th>time5</th>\n",
       "    </tr>\n",
       "  </thead>\n",
       "  <tbody>\n",
       "  </tbody>\n",
       "</table>\n",
       "</div>"
      ],
      "text/plain": [
       "Empty DataFrame\n",
       "Columns: [query, time1, time2, time3, time4, time5]\n",
       "Index: []"
      ]
     },
     "execution_count": 32,
     "metadata": {},
     "output_type": "execute_result"
    }
   ],
   "source": [
    "df = pd.DataFrame(columns=['query', 'time1', 'time2', 'time3', 'time4', 'time5'])\n",
    "df"
   ]
  },
  {
   "cell_type": "code",
   "execution_count": 33,
   "metadata": {},
   "outputs": [
    {
     "name": "stdout",
     "output_type": "stream",
     "text": [
      "  query     time1     time2     time3     time4     time5\n",
      "0    49  4.232463  0.179765  0.160067  0.153851  0.152786 \n",
      "\n"
     ]
    }
   ],
   "source": [
    "for query_num in query_lst:\n",
    "    tmp_lst = []\n",
    "    tmp_lst.append(query_num)\n",
    "    f = open(\"../query_sqlserver_org_order/query_{}.sql\".format(query_num), 'r')\n",
    "    query = f.read()\n",
    "    for i in range(5):\n",
    "        tic = time()\n",
    "        cursor.execute(query)\n",
    "        toc = time()\n",
    "        t = toc - tic\n",
    "        tmp_lst.append(t)\n",
    "    new_df = pd.DataFrame([tmp_lst],columns=['query', 'time1', 'time2', 'time3', 'time4', 'time5'])\n",
    "    df = pd.concat([df, new_df],axis=0)\n",
    "    print(df,'\\n')\n",
    "df.to_csv('../result_49.csv', index=False)"
   ]
  },
  {
   "cell_type": "code",
   "execution_count": 13,
   "metadata": {},
   "outputs": [
    {
     "data": {
      "text/html": [
       "<div>\n",
       "<style scoped>\n",
       "    .dataframe tbody tr th:only-of-type {\n",
       "        vertical-align: middle;\n",
       "    }\n",
       "\n",
       "    .dataframe tbody tr th {\n",
       "        vertical-align: top;\n",
       "    }\n",
       "\n",
       "    .dataframe thead th {\n",
       "        text-align: right;\n",
       "    }\n",
       "</style>\n",
       "<table border=\"1\" class=\"dataframe\">\n",
       "  <thead>\n",
       "    <tr style=\"text-align: right;\">\n",
       "      <th></th>\n",
       "      <th>query</th>\n",
       "      <th>time1</th>\n",
       "      <th>time2</th>\n",
       "      <th>time3</th>\n",
       "      <th>time4</th>\n",
       "      <th>time5</th>\n",
       "    </tr>\n",
       "  </thead>\n",
       "  <tbody>\n",
       "    <tr>\n",
       "      <th>0</th>\n",
       "      <td>1</td>\n",
       "      <td>1.007146</td>\n",
       "      <td>0.970426</td>\n",
       "      <td>0.968980</td>\n",
       "      <td>0.973379</td>\n",
       "      <td>0.955503</td>\n",
       "    </tr>\n",
       "    <tr>\n",
       "      <th>0</th>\n",
       "      <td>2</td>\n",
       "      <td>61.580830</td>\n",
       "      <td>65.459374</td>\n",
       "      <td>64.265039</td>\n",
       "      <td>73.219193</td>\n",
       "      <td>90.895093</td>\n",
       "    </tr>\n",
       "    <tr>\n",
       "      <th>0</th>\n",
       "      <td>3</td>\n",
       "      <td>13.345937</td>\n",
       "      <td>1.579686</td>\n",
       "      <td>1.534165</td>\n",
       "      <td>1.534406</td>\n",
       "      <td>1.551862</td>\n",
       "    </tr>\n",
       "    <tr>\n",
       "      <th>0</th>\n",
       "      <td>4</td>\n",
       "      <td>29.696488</td>\n",
       "      <td>27.226271</td>\n",
       "      <td>23.613096</td>\n",
       "      <td>26.024584</td>\n",
       "      <td>27.208786</td>\n",
       "    </tr>\n",
       "    <tr>\n",
       "      <th>0</th>\n",
       "      <td>5</td>\n",
       "      <td>5.302745</td>\n",
       "      <td>8.306011</td>\n",
       "      <td>9.522084</td>\n",
       "      <td>11.424761</td>\n",
       "      <td>11.972606</td>\n",
       "    </tr>\n",
       "    <tr>\n",
       "      <th>0</th>\n",
       "      <td>6</td>\n",
       "      <td>8.715021</td>\n",
       "      <td>3.106640</td>\n",
       "      <td>2.900610</td>\n",
       "      <td>2.788401</td>\n",
       "      <td>2.844168</td>\n",
       "    </tr>\n",
       "    <tr>\n",
       "      <th>0</th>\n",
       "      <td>7</td>\n",
       "      <td>2.363396</td>\n",
       "      <td>1.280699</td>\n",
       "      <td>1.299717</td>\n",
       "      <td>1.311852</td>\n",
       "      <td>1.313427</td>\n",
       "    </tr>\n",
       "    <tr>\n",
       "      <th>0</th>\n",
       "      <td>8</td>\n",
       "      <td>1.902023</td>\n",
       "      <td>1.424883</td>\n",
       "      <td>1.387357</td>\n",
       "      <td>1.418671</td>\n",
       "      <td>1.375679</td>\n",
       "    </tr>\n",
       "    <tr>\n",
       "      <th>0</th>\n",
       "      <td>9</td>\n",
       "      <td>9.984648</td>\n",
       "      <td>10.030884</td>\n",
       "      <td>9.841075</td>\n",
       "      <td>9.585309</td>\n",
       "      <td>9.501673</td>\n",
       "    </tr>\n",
       "    <tr>\n",
       "      <th>0</th>\n",
       "      <td>11</td>\n",
       "      <td>9.322804</td>\n",
       "      <td>7.614102</td>\n",
       "      <td>7.864239</td>\n",
       "      <td>8.004638</td>\n",
       "      <td>8.070929</td>\n",
       "    </tr>\n",
       "    <tr>\n",
       "      <th>0</th>\n",
       "      <td>12</td>\n",
       "      <td>0.452175</td>\n",
       "      <td>0.261574</td>\n",
       "      <td>0.281333</td>\n",
       "      <td>0.275599</td>\n",
       "      <td>0.277410</td>\n",
       "    </tr>\n",
       "    <tr>\n",
       "      <th>0</th>\n",
       "      <td>13</td>\n",
       "      <td>1.335974</td>\n",
       "      <td>0.707733</td>\n",
       "      <td>0.692680</td>\n",
       "      <td>0.701407</td>\n",
       "      <td>0.701309</td>\n",
       "    </tr>\n",
       "    <tr>\n",
       "      <th>0</th>\n",
       "      <td>15</td>\n",
       "      <td>6.469882</td>\n",
       "      <td>2.840125</td>\n",
       "      <td>2.803198</td>\n",
       "      <td>3.837086</td>\n",
       "      <td>3.251963</td>\n",
       "    </tr>\n",
       "    <tr>\n",
       "      <th>0</th>\n",
       "      <td>16</td>\n",
       "      <td>4.566423</td>\n",
       "      <td>4.071690</td>\n",
       "      <td>4.098282</td>\n",
       "      <td>4.085908</td>\n",
       "      <td>4.113860</td>\n",
       "    </tr>\n",
       "    <tr>\n",
       "      <th>0</th>\n",
       "      <td>17</td>\n",
       "      <td>2.006205</td>\n",
       "      <td>0.948308</td>\n",
       "      <td>0.955794</td>\n",
       "      <td>0.958057</td>\n",
       "      <td>0.970110</td>\n",
       "    </tr>\n",
       "    <tr>\n",
       "      <th>0</th>\n",
       "      <td>18</td>\n",
       "      <td>2.664147</td>\n",
       "      <td>2.186576</td>\n",
       "      <td>2.180696</td>\n",
       "      <td>2.153727</td>\n",
       "      <td>2.147860</td>\n",
       "    </tr>\n",
       "    <tr>\n",
       "      <th>0</th>\n",
       "      <td>19</td>\n",
       "      <td>5.512453</td>\n",
       "      <td>5.327067</td>\n",
       "      <td>5.299857</td>\n",
       "      <td>5.265655</td>\n",
       "      <td>5.348720</td>\n",
       "    </tr>\n",
       "    <tr>\n",
       "      <th>0</th>\n",
       "      <td>20</td>\n",
       "      <td>0.534566</td>\n",
       "      <td>0.469826</td>\n",
       "      <td>0.483912</td>\n",
       "      <td>0.478634</td>\n",
       "      <td>0.480554</td>\n",
       "    </tr>\n",
       "    <tr>\n",
       "      <th>0</th>\n",
       "      <td>21</td>\n",
       "      <td>1.654931</td>\n",
       "      <td>0.791876</td>\n",
       "      <td>0.792529</td>\n",
       "      <td>0.786165</td>\n",
       "      <td>0.791890</td>\n",
       "    </tr>\n",
       "  </tbody>\n",
       "</table>\n",
       "</div>"
      ],
      "text/plain": [
       "  query      time1      time2      time3      time4      time5\n",
       "0     1   1.007146   0.970426   0.968980   0.973379   0.955503\n",
       "0     2  61.580830  65.459374  64.265039  73.219193  90.895093\n",
       "0     3  13.345937   1.579686   1.534165   1.534406   1.551862\n",
       "0     4  29.696488  27.226271  23.613096  26.024584  27.208786\n",
       "0     5   5.302745   8.306011   9.522084  11.424761  11.972606\n",
       "0     6   8.715021   3.106640   2.900610   2.788401   2.844168\n",
       "0     7   2.363396   1.280699   1.299717   1.311852   1.313427\n",
       "0     8   1.902023   1.424883   1.387357   1.418671   1.375679\n",
       "0     9   9.984648  10.030884   9.841075   9.585309   9.501673\n",
       "0    11   9.322804   7.614102   7.864239   8.004638   8.070929\n",
       "0    12   0.452175   0.261574   0.281333   0.275599   0.277410\n",
       "0    13   1.335974   0.707733   0.692680   0.701407   0.701309\n",
       "0    15   6.469882   2.840125   2.803198   3.837086   3.251963\n",
       "0    16   4.566423   4.071690   4.098282   4.085908   4.113860\n",
       "0    17   2.006205   0.948308   0.955794   0.958057   0.970110\n",
       "0    18   2.664147   2.186576   2.180696   2.153727   2.147860\n",
       "0    19   5.512453   5.327067   5.299857   5.265655   5.348720\n",
       "0    20   0.534566   0.469826   0.483912   0.478634   0.480554\n",
       "0    21   1.654931   0.791876   0.792529   0.786165   0.791890"
      ]
     },
     "execution_count": 13,
     "metadata": {},
     "output_type": "execute_result"
    }
   ],
   "source": [
    "df.to_csv('result_5gb_01.csv', index=False)\n",
    "df"
   ]
  },
  {
   "cell_type": "code",
   "execution_count": 13,
   "metadata": {},
   "outputs": [
    {
     "data": {
      "text/plain": [
       "[14]"
      ]
     },
     "execution_count": 13,
     "metadata": {},
     "output_type": "execute_result"
    }
   ],
   "source": [
    "tmp_lst"
   ]
  },
  {
   "cell_type": "markdown",
   "metadata": {},
   "source": [
    "# Cursor examples"
   ]
  },
  {
   "cell_type": "code",
   "execution_count": 6,
   "metadata": {},
   "outputs": [
    {
     "data": {
      "text/plain": [
       "<pyodbc.Cursor at 0x10919ebb0>"
      ]
     },
     "execution_count": 6,
     "metadata": {},
     "output_type": "execute_result"
    }
   ],
   "source": [
    "cursor.execute(\"SELECT TOP (10) * from call_center\")"
   ]
  },
  {
   "cell_type": "code",
   "execution_count": 7,
   "metadata": {},
   "outputs": [
    {
     "name": "stdout",
     "output_type": "stream",
     "text": [
      "1, AAAAAAAABAAAAAAA, 1998-01-01, \n",
      "2, AAAAAAAACAAAAAAA, 1998-01-01, 2000-12-31\n",
      "3, AAAAAAAACAAAAAAA, 2001-01-01, \n",
      "4, AAAAAAAAEAAAAAAA, 1998-01-01, 2000-01-01\n",
      "5, AAAAAAAAEAAAAAAA, 2000-01-02, 2001-12-31\n",
      "6, AAAAAAAAEAAAAAAA, 2002-01-01, \n"
     ]
    }
   ],
   "source": [
    "row = cursor.fetchone()\n",
    "while row:\n",
    "    # Print the row\n",
    "    print(str(row[0]) + \", \" + str(row[1] or '') + \", \" + str(row[2] or '') + \", \" + str(row[3] or ''))\n",
    "    row = cursor.fetchone()"
   ]
  }
 ],
 "metadata": {
  "kernelspec": {
   "display_name": "Python 3.9.13 ('base')",
   "language": "python",
   "name": "python3"
  },
  "language_info": {
   "codemirror_mode": {
    "name": "ipython",
    "version": 3
   },
   "file_extension": ".py",
   "mimetype": "text/x-python",
   "name": "python",
   "nbconvert_exporter": "python",
   "pygments_lexer": "ipython3",
   "version": "3.9.13"
  },
  "orig_nbformat": 4,
  "vscode": {
   "interpreter": {
    "hash": "d8cf549b0e672e8d5a0d0bf07c69eb35452dc99244258a03bd6dea3cf00f576e"
   }
  }
 },
 "nbformat": 4,
 "nbformat_minor": 2
}

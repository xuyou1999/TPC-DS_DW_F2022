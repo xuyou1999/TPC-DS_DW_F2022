{
 "cells": [
  {
   "cell_type": "code",
   "execution_count": 39,
   "metadata": {},
   "outputs": [],
   "source": [
    "import pandas as pd"
   ]
  },
  {
   "cell_type": "code",
   "execution_count": 40,
   "metadata": {},
   "outputs": [],
   "source": [
    "new_df = pd.DataFrame()\n",
    "idx = [i for i in range(1, 100)]\n",
    "new_df['QueryNo'] = idx"
   ]
  },
  {
   "cell_type": "code",
   "execution_count": 41,
   "metadata": {},
   "outputs": [
    {
     "data": {
      "text/html": [
       "<div>\n",
       "<style scoped>\n",
       "    .dataframe tbody tr th:only-of-type {\n",
       "        vertical-align: middle;\n",
       "    }\n",
       "\n",
       "    .dataframe tbody tr th {\n",
       "        vertical-align: top;\n",
       "    }\n",
       "\n",
       "    .dataframe thead th {\n",
       "        text-align: right;\n",
       "    }\n",
       "</style>\n",
       "<table border=\"1\" class=\"dataframe\">\n",
       "  <thead>\n",
       "    <tr style=\"text-align: right;\">\n",
       "      <th></th>\n",
       "      <th>QueryNo</th>\n",
       "      <th>avg_1gb</th>\n",
       "      <th>avg_2gb</th>\n",
       "      <th>avg_5gb</th>\n",
       "      <th>avg_10gb</th>\n",
       "    </tr>\n",
       "  </thead>\n",
       "  <tbody>\n",
       "    <tr>\n",
       "      <th>0</th>\n",
       "      <td>1</td>\n",
       "      <td>1.659347</td>\n",
       "      <td>1.397830</td>\n",
       "      <td>1.248287</td>\n",
       "      <td>8.189259</td>\n",
       "    </tr>\n",
       "    <tr>\n",
       "      <th>1</th>\n",
       "      <td>2</td>\n",
       "      <td>5.470554</td>\n",
       "      <td>8.496771</td>\n",
       "      <td>105.812540</td>\n",
       "      <td>185.243408</td>\n",
       "    </tr>\n",
       "    <tr>\n",
       "      <th>2</th>\n",
       "      <td>3</td>\n",
       "      <td>0.037430</td>\n",
       "      <td>0.403681</td>\n",
       "      <td>1.214805</td>\n",
       "      <td>0.841570</td>\n",
       "    </tr>\n",
       "    <tr>\n",
       "      <th>3</th>\n",
       "      <td>4</td>\n",
       "      <td>4.598333</td>\n",
       "      <td>4.192886</td>\n",
       "      <td>84.058420</td>\n",
       "      <td>317.720891</td>\n",
       "    </tr>\n",
       "    <tr>\n",
       "      <th>4</th>\n",
       "      <td>5</td>\n",
       "      <td>0.684125</td>\n",
       "      <td>1.479888</td>\n",
       "      <td>113.179626</td>\n",
       "      <td>165.965691</td>\n",
       "    </tr>\n",
       "    <tr>\n",
       "      <th>...</th>\n",
       "      <td>...</td>\n",
       "      <td>...</td>\n",
       "      <td>...</td>\n",
       "      <td>...</td>\n",
       "      <td>...</td>\n",
       "    </tr>\n",
       "    <tr>\n",
       "      <th>94</th>\n",
       "      <td>95</td>\n",
       "      <td>0.454056</td>\n",
       "      <td>1.767109</td>\n",
       "      <td>1.086455</td>\n",
       "      <td>2.069394</td>\n",
       "    </tr>\n",
       "    <tr>\n",
       "      <th>95</th>\n",
       "      <td>96</td>\n",
       "      <td>0.091799</td>\n",
       "      <td>0.202805</td>\n",
       "      <td>5.610430</td>\n",
       "      <td>90.479988</td>\n",
       "    </tr>\n",
       "    <tr>\n",
       "      <th>96</th>\n",
       "      <td>97</td>\n",
       "      <td>0.393608</td>\n",
       "      <td>0.729379</td>\n",
       "      <td>62.806487</td>\n",
       "      <td>131.460320</td>\n",
       "    </tr>\n",
       "    <tr>\n",
       "      <th>97</th>\n",
       "      <td>98</td>\n",
       "      <td>0.113618</td>\n",
       "      <td>0.147588</td>\n",
       "      <td>0.429107</td>\n",
       "      <td>6.067457</td>\n",
       "    </tr>\n",
       "    <tr>\n",
       "      <th>98</th>\n",
       "      <td>99</td>\n",
       "      <td>0.503753</td>\n",
       "      <td>0.394154</td>\n",
       "      <td>5.121588</td>\n",
       "      <td>50.251209</td>\n",
       "    </tr>\n",
       "  </tbody>\n",
       "</table>\n",
       "<p>99 rows × 5 columns</p>\n",
       "</div>"
      ],
      "text/plain": [
       "    QueryNo   avg_1gb   avg_2gb     avg_5gb    avg_10gb\n",
       "0         1  1.659347  1.397830    1.248287    8.189259\n",
       "1         2  5.470554  8.496771  105.812540  185.243408\n",
       "2         3  0.037430  0.403681    1.214805    0.841570\n",
       "3         4  4.598333  4.192886   84.058420  317.720891\n",
       "4         5  0.684125  1.479888  113.179626  165.965691\n",
       "..      ...       ...       ...         ...         ...\n",
       "94       95  0.454056  1.767109    1.086455    2.069394\n",
       "95       96  0.091799  0.202805    5.610430   90.479988\n",
       "96       97  0.393608  0.729379   62.806487  131.460320\n",
       "97       98  0.113618  0.147588    0.429107    6.067457\n",
       "98       99  0.503753  0.394154    5.121588   50.251209\n",
       "\n",
       "[99 rows x 5 columns]"
      ]
     },
     "execution_count": 41,
     "metadata": {},
     "output_type": "execute_result"
    }
   ],
   "source": [
    "sf_lst = [1, 2, 5, 10]\n",
    "for sf in sf_lst:\n",
    "    df = pd.read_csv('../result2/result_{}gb.csv'.format(sf))\n",
    "    df = df[['time1', 'time2', 'time3', 'time4', 'time5']]\n",
    "    new_df['avg_{}gb'.format(sf)] = df.mean(axis=1)\n",
    "new_df"
   ]
  },
  {
   "cell_type": "code",
   "execution_count": 42,
   "metadata": {},
   "outputs": [],
   "source": [
    "new_df.to_csv('../result2/avg_result.csv', index=False)"
   ]
  }
 ],
 "metadata": {
  "kernelspec": {
   "display_name": "Python 3.9.13 ('base')",
   "language": "python",
   "name": "python3"
  },
  "language_info": {
   "codemirror_mode": {
    "name": "ipython",
    "version": 3
   },
   "file_extension": ".py",
   "mimetype": "text/x-python",
   "name": "python",
   "nbconvert_exporter": "python",
   "pygments_lexer": "ipython3",
   "version": "3.9.13"
  },
  "orig_nbformat": 4,
  "vscode": {
   "interpreter": {
    "hash": "d8cf549b0e672e8d5a0d0bf07c69eb35452dc99244258a03bd6dea3cf00f576e"
   }
  }
 },
 "nbformat": 4,
 "nbformat_minor": 2
}

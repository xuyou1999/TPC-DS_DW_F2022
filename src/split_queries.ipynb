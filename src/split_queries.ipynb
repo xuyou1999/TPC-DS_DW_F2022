{
 "cells": [
  {
   "cell_type": "code",
   "execution_count": 2,
   "metadata": {},
   "outputs": [],
   "source": [
    "f = open('../query_sqlserver/query_0.sql', 'r')\n",
    "for line in f.readlines():\n",
    "    if line.startswith('--'):\n",
    "        number = line.strip().split()[-1]\n",
    "        # replace the path with your own path\n",
    "        f2 = open('../query_sqlserver/query_{}.sql'.format(number), 'w')\n",
    "        f2.write(line)\n",
    "        f2.close()\n",
    "        f2 = open('../query_sqlserver/query_{}.sql'.format(number), 'a')\n",
    "    elif line.startswith(';'):\n",
    "        f2.write(line)\n",
    "        f2.close\n",
    "    elif line.strip() == '':\n",
    "        pass\n",
    "    else:\n",
    "        f2.write(line)\n",
    "f.close()"
   ]
  }
 ],
 "metadata": {
  "kernelspec": {
   "display_name": "Python 3.9.12 ('base')",
   "language": "python",
   "name": "python3"
  },
  "language_info": {
   "codemirror_mode": {
    "name": "ipython",
    "version": 3
   },
   "file_extension": ".py",
   "mimetype": "text/x-python",
   "name": "python",
   "nbconvert_exporter": "python",
   "pygments_lexer": "ipython3",
   "version": "3.9.12"
  },
  "orig_nbformat": 4,
  "vscode": {
   "interpreter": {
    "hash": "d8cf549b0e672e8d5a0d0bf07c69eb35452dc99244258a03bd6dea3cf00f576e"
   }
  }
 },
 "nbformat": 4,
 "nbformat_minor": 2
}
